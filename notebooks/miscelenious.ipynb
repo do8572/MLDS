{
 "cells": [
  {
   "cell_type": "markdown",
   "metadata": {},
   "source": [
    "# Miscelenious"
   ]
  },
  {
   "cell_type": "code",
   "execution_count": null,
   "metadata": {},
   "outputs": [
    {
     "ename": "",
     "evalue": "",
     "output_type": "error",
     "traceback": [
      "\u001b[1;31mRunning cells with '/bin/python3' requires ipykernel package.\n",
      "\u001b[1;31mRun the following command to install 'ipykernel' into the Python environment. \n",
      "\u001b[1;31mCommand: '/bin/python3 -m pip install ipykernel -U --user --force-reinstall'"
     ]
    }
   ],
   "source": [
    "# imports\n",
    "%load_ext autoreload\n",
    "%autoreload 2\n",
    "import os\n",
    "import sys\n",
    "\n",
    "import matplotlib as mpl\n",
    "from sklearn.model_selection import train_test_split\n",
    "from sklearn.tree import export_text, DecisionTreeClassifier, DecisionTreeRegressor\n",
    "\n",
    "import numpy as np\n",
    "import pandas as pd\n",
    "\n",
    "import imodels\n",
    "from imodels.util.data_util import get_clean_dataset # this was used to get the datasets\n",
    "\n",
    "from copy import deepcopy\n",
    "\n",
    "# cross-validation of models\n",
    "from sklearn.model_selection import StratifiedKFold, KFold\n",
    "from sklearn.metrics import roc_auc_score, r2_score\n",
    "from sklearn.model_selection import GridSearchCV\n",
    "from sklearn.pipeline import Pipeline\n",
    "\n",
    "# timing algorithm execution\n",
    "import time"
   ]
  },
  {
   "cell_type": "code",
   "execution_count": null,
   "metadata": {},
   "outputs": [],
   "source": [
    "# Repositories used for tests (location: paper_autors_repo/config/shrinkage/models.py) - tuki sem skopiral samo ker je lazje najti\n",
    "\n",
    "DATASETS_CLASSIFICATION = [\n",
    "    # classification datasets from original random forests paper\n",
    "    # page 9: https://www.stat.berkeley.edu/~breiman/randomforest2001.pdf\n",
    "    (\"heart\", \"heart\", 'imodels'),\n",
    "    (\"breast-cancer\", \"breast_cancer\", 'imodels'), # this is the wrong breast-cancer dataset (https://new.openml.org/search?type=data&sort=runs&id=13&status=active)\n",
    "    (\"haberman\", \"haberman\", 'imodels'),\n",
    "    (\"ionosphere\", \"ionosphere\", 'pmlb'),\n",
    "    (\"diabetes\", \"diabetes\", \"pmlb\"),\n",
    "    (\"german-credit\", \"german\", \"pmlb\"),\n",
    "    (\"juvenile\", \"juvenile_clean\", 'imodels'),\n",
    "    (\"recidivism\", \"compas_two_year_clean\", 'imodels'),\n",
    "]\n",
    "\n",
    "DATASETS_REGRESSION = [\n",
    "    ('friedman1', 'friedman1', 'synthetic'),\n",
    "    ('friedman3', 'friedman3', 'synthetic'),\n",
    "    (\"diabetes-regr\", \"diabetes\", 'sklearn'),\n",
    "    # missing red-wine and geographical music added later\n",
    "    ('abalone', '183', 'openml'),\n",
    "    (\"satellite-image\", \"294_satellite_image\", 'pmlb'),\n",
    "    (\"california-housing\", \"california_housing\", 'sklearn'),\n",
    "]\n",
    "\n",
    "# hyperparameters used in paper\n",
    "\n",
    "# number of leafs used in paper\n",
    "num_of_leaves = [2, 4, 8, 12, 15, 20, 24, 28, 30, 32]\n",
    "\n",
    "# regularization parameter\n",
    "reg_hs = [0.1, 1.0, 10.0, 25.0, 50.0, 100.0]\n",
    "\n",
    "tasks_classification = {}\n",
    "\n",
    "# load datasets\n",
    "for task in DATASETS_CLASSIFICATION:\n",
    "    X, y, feature_names = get_clean_dataset(task[1], data_source = task[2])\n",
    "    df = pd.DataFrame(X, columns=feature_names)\n",
    "    df[\"label\"] = y\n",
    "    tasks_classification[task[0]] = df\n",
    "    \n",
    "tasks_regression = {}\n",
    "\n",
    "# load datasets\n",
    "for task in DATASETS_REGRESSION:\n",
    "    X, y, feature_names = get_clean_dataset(task[1], data_source = task[2])\n",
    "    df = pd.DataFrame(X, columns=feature_names)\n",
    "    df[\"label\"] = y\n",
    "    tasks_regression[task[0]] = df\n",
    "    \n",
    "# add missing datasets (not present in code)\n",
    "# red-wine dataset\n",
    "wine = pd.read_csv(\"data/missing_data/winequality-red.csv\", sep = \";\")\n",
    "wine = (wine-wine.mean())/wine.std()\n",
    "wine.rename(columns = {'quality':'label'}, inplace = True)\n",
    "\n",
    "tasks_regression[\"red-wine\"] = wine\n",
    "DATASETS_REGRESSION.append((\"red-wine\", \"red-wine\", \"None\"))\n",
    "\n",
    "# geographical-music dataset (omitted for now since it is a 2D output dataset (RF should and can predict latitude/longitude))\n",
    "# 116 & 117 are part of label\n",
    "music = pd.read_csv(\"data/missing_data/geo-music-big.txt\", header = None)\n",
    "music.rename(columns = {116: 'label1', 117: 'label2'}, inplace = True)\n",
    "tasks_regression[\"music\"] = music\n",
    "DATASETS_REGRESSION.insert(0, (\"music\", \"music\", \"None\"))"
   ]
  }
 ],
 "metadata": {
  "kernelspec": {
   "display_name": "Python 3 (ipykernel)",
   "language": "python",
   "name": "python3"
  },
  "language_info": {
   "codemirror_mode": {
    "name": "ipython",
    "version": 3
   },
   "file_extension": ".py",
   "mimetype": "text/x-python",
   "name": "python",
   "nbconvert_exporter": "python",
   "pygments_lexer": "ipython3",
   "version": "3.10.8"
  },
  "vscode": {
   "interpreter": {
    "hash": "916dbcbb3f70747c44a77c7bcd40155683ae19c65e1c03b4aa3499c5328201f1"
   }
  }
 },
 "nbformat": 4,
 "nbformat_minor": 4
}
