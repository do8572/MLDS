{
 "cells": [
  {
   "cell_type": "code",
   "execution_count": null,
   "id": "eab5c2b7",
   "metadata": {},
   "outputs": [],
   "source": [
    "%load_ext autoreload\n",
    "%autoreload 2"
   ]
  },
  {
   "cell_type": "code",
   "execution_count": null,
   "id": "316d8287",
   "metadata": {},
   "outputs": [],
   "source": [
    "from copy import deepcopy\n",
    "\n",
    "import numpy as np\n",
    "import matplotlib.pyplot as plt\n",
    "\n",
    "from sklearn.metrics import roc_auc_score, r2_score\n",
    "from sklearn.model_selection import train_test_split\n",
    "from sklearn.tree import DecisionTreeRegressor, DecisionTreeClassifier\n",
    "\n",
    "import imodels\n",
    "#from imodels import HSTreeRegressorCV, HSTreeClassifierCV\n",
    "#from imodels import HSTreeRegressor, HSTreeClassifier\n",
    "\n",
    "from tqdm import tqdm\n",
    "\n",
    "from datasets import DATASETS_REGRESSION, DATASETS_CLASSIFICATION"
   ]
  },
  {
   "cell_type": "code",
   "execution_count": null,
   "id": "a739863e",
   "metadata": {},
   "outputs": [],
   "source": [
    "def experiment(X, y, max_leaf_nodes, type_=\"classification\", N=10):\n",
    "    score_CART = list()\n",
    "    score_lbsCART = list()\n",
    "    score_hsCART = list()\n",
    "    \n",
    "    if type_ == \"classification\":\n",
    "        metric = roc_auc_score\n",
    "        tree_model = DecisionTreeClassifier\n",
    "        lbstree_model = imodels.HSTreeClassifier\n",
    "        hstree_model = imodels.HSTreeClassifierCV\n",
    "    elif type_ == \"regression\":\n",
    "        metric = r2_score\n",
    "        tree_model = DecisionTreeRegressor\n",
    "        lbstree_model = imodels.HSTreeRegressor\n",
    "        hstree_model = imodels.HSTreeRegressorCV\n",
    "\n",
    "    for _ in range(N):\n",
    "        X_train, X_test, y_train, y_test = train_test_split(X, y, test_size=0.33)\n",
    "\n",
    "        CART = tree_model(max_leaf_nodes=max_leaf_nodes)\n",
    "        CART.fit(X_train, y_train)\n",
    "        lbsCART = lbstree_model(deepcopy(CART), shrinkage_scheme_=\"leaf_based\")\n",
    "        hsCART = hstree_model(deepcopy(CART), reg_params=[0.1, 1, 10, 25, 50, 100])\n",
    "        hsCART.fit(X_train, y_train)\n",
    "\n",
    "        y_pred = CART.predict(X_test)\n",
    "        score_CART.append(metric(y_test, y_pred))\n",
    "        y_pred = lbsCART.predict(X_test)\n",
    "        score_lbsCART.append(metric(y_test, y_pred))\n",
    "        y_pred = hsCART.predict(X_test)\n",
    "        score_hsCART.append(metric(y_test, y_pred))\n",
    "    \n",
    "    return score_CART, score_lbsCART, score_hsCART"
   ]
  },
  {
   "cell_type": "code",
   "execution_count": null,
   "id": "d56585fd",
   "metadata": {},
   "outputs": [],
   "source": [
    "def lbs_vs_hs(dataset_name, database_name, type_=\"classification\", save=False, save_name=None):\n",
    "    X, y, cols = imodels.util.data_util.get_clean_dataset(dataset_name, database_name)\n",
    "    cols = np.array(cols)\n",
    "\n",
    "    SCORE_CART_m, SCORE_lbsCART_m, SCORE_hsCART_m = list(), list(), list()\n",
    "    SCORE_CART_s, SCORE_lbsCART_s, SCORE_hsCART_s = list(), list(), list()\n",
    "\n",
    "    leaf_nodes = [2, 4, 8, 12, 16, 20, 24, 28, 30, 32]\n",
    "\n",
    "    for max_leaf_nodes in leaf_nodes:\n",
    "        score_cart, score_lbscart, score_hscart = experiment(X, y, max_leaf_nodes, type_)\n",
    "        SCORE_CART_m.append(np.mean(score_cart))\n",
    "        SCORE_CART_s.append(np.std(score_cart))\n",
    "        SCORE_lbsCART_m.append(np.mean(score_lbscart))\n",
    "        SCORE_lbsCART_s.append(np.std(score_lbscart))\n",
    "        SCORE_hsCART_m.append(np.mean(score_hscart))\n",
    "        SCORE_hsCART_s.append(np.std(score_hscart))\n",
    "    \n",
    "    fig, ax = plt.subplots()\n",
    "    plt.clf()\n",
    "    plt.errorbar(leaf_nodes, SCORE_CART_m, yerr=SCORE_CART_s, color=\"lightsalmon\", label=\"CART\")\n",
    "    plt.errorbar(leaf_nodes, SCORE_lbsCART_m, yerr=SCORE_lbsCART_s, color=\"goldenrod\", label=\"CART (LBS)\")\n",
    "    plt.errorbar(leaf_nodes, SCORE_hsCART_m, yerr=SCORE_hsCART_s, color=\"firebrick\", label=\"hsCART\")\n",
    "    plt.legend()\n",
    "    plt.xlabel(\"Number of Leaves\")\n",
    "    plt.ylabel(\"AUC\" if type_ == \"classification\" else \"R2\")\n",
    "    if save:\n",
    "        plt.savefig(f\"../figures/HS_vs_LBS/{type_}_{save_name}\", bbox_inches=\"tight\", facecolor=\"white\", edgecolor=\"auto\")"
   ]
  },
  {
   "cell_type": "code",
   "execution_count": null,
   "id": "a1b227aa",
   "metadata": {},
   "outputs": [],
   "source": [
    "for save_name, (dataset_name, database_name) in tqdm(DATASETS_CLASSIFICATION.items()):\n",
    "    lbs_vs_hs(dataset_name, database_name, \"classification\", False, save_name)"
   ]
  },
  {
   "cell_type": "code",
   "execution_count": null,
   "id": "1f05cef1",
   "metadata": {
    "scrolled": false
   },
   "outputs": [],
   "source": [
    "for save_name, (dataset_name, database_name) in tqdm(DATASETS_REGRESSION.items()):\n",
    "    lbs_vs_hs(dataset_name, database_name, \"regression\", False, save_name)"
   ]
  },
  {
   "cell_type": "code",
   "execution_count": null,
   "id": "0ff3f286",
   "metadata": {},
   "outputs": [],
   "source": []
  }
 ],
 "metadata": {
  "kernelspec": {
   "display_name": "Python [conda env:mlds] *",
   "language": "python",
   "name": "conda-env-mlds-py"
  },
  "language_info": {
   "codemirror_mode": {
    "name": "ipython",
    "version": 3
   },
   "file_extension": ".py",
   "mimetype": "text/x-python",
   "name": "python",
   "nbconvert_exporter": "python",
   "pygments_lexer": "ipython3",
   "version": "3.10.6"
  }
 },
 "nbformat": 4,
 "nbformat_minor": 5
}
